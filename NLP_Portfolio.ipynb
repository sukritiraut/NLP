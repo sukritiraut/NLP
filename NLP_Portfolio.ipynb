{
 "cells": [
  {
   "cell_type": "markdown",
   "id": "87d5b40c",
   "metadata": {},
   "source": [
    "# Analyzing detailed narrative disclosure (that comes with earnings report) which provides information helpful for interpreting performance using a few different machine learning approaches.\n",
    "\n",
    "**1. Apply topic modeling for understading type of language used 2. Apply Lasso to evaluate topics that best predict stock returns 3. Train classifier to understand whether earnings announcements can be used to predict large positive returns**"
   ]
  },
  {
   "cell_type": "code",
   "execution_count": 1,
   "id": "9efeb1d4",
   "metadata": {},
   "outputs": [],
   "source": [
    "import pandas as pd\n",
    "import re\n",
    "import tmtoolkit\n",
    "from nltk.tokenize import sent_tokenize, word_tokenize\n",
    "from sklearn.feature_extraction.text import CountVectorizer\n",
    "from nltk.corpus import stopwords\n",
    "from sklearn.decomposition import LatentDirichletAllocation as LDA\n",
    "from tmtoolkit.topicmod.evaluate import metric_coherence_gensim\n",
    "import numpy as np\n"
   ]
  },
  {
   "cell_type": "code",
   "execution_count": 16,
   "id": "0947d514-5669-4909-a0ff-bb337c2f9bec",
   "metadata": {},
   "outputs": [
    {
     "data": {
      "text/html": [
       "<div>\n",
       "<style scoped>\n",
       "    .dataframe tbody tr th:only-of-type {\n",
       "        vertical-align: middle;\n",
       "    }\n",
       "\n",
       "    .dataframe tbody tr th {\n",
       "        vertical-align: top;\n",
       "    }\n",
       "\n",
       "    .dataframe thead th {\n",
       "        text-align: right;\n",
       "    }\n",
       "</style>\n",
       "<table border=\"1\" class=\"dataframe\">\n",
       "  <thead>\n",
       "    <tr style=\"text-align: right;\">\n",
       "      <th></th>\n",
       "      <th>File_Name</th>\n",
       "      <th>ea_text</th>\n",
       "      <th>datacqtr</th>\n",
       "      <th>announce_date</th>\n",
       "      <th>BHAR0_2</th>\n",
       "    </tr>\n",
       "  </thead>\n",
       "  <tbody>\n",
       "    <tr>\n",
       "      <th>0</th>\n",
       "      <td>714603-0001104659-11-059721.txt</td>\n",
       "      <td>EX-99.1 3 a11-28994_1ex99d1. htm EX-99.1   Exh...</td>\n",
       "      <td>2011Q3</td>\n",
       "      <td>10/28/2011</td>\n",
       "      <td>-4.513975</td>\n",
       "    </tr>\n",
       "    <tr>\n",
       "      <th>1</th>\n",
       "      <td>772897-0000950134-06-020331.txt</td>\n",
       "      <td>EX-99.1 2 c09674exv99w1. htm PRESS RELEASE  ex...</td>\n",
       "      <td>2006Q3</td>\n",
       "      <td>11/2/2006</td>\n",
       "      <td>-2.001589</td>\n",
       "    </tr>\n",
       "    <tr>\n",
       "      <th>2</th>\n",
       "      <td>775158-0001564590-20-048540.txt</td>\n",
       "      <td>EX-99.1 2 osk-ex991_6. htm EX-99.1    osk-ex99...</td>\n",
       "      <td>2020Q3</td>\n",
       "      <td>10/29/2020</td>\n",
       "      <td>-2.112353</td>\n",
       "    </tr>\n",
       "    <tr>\n",
       "      <th>3</th>\n",
       "      <td>16040-0001157523-20-000728.txt</td>\n",
       "      <td>EX-99.1 2 a52217903ex99_1. htm EXHIBIT 99.1   ...</td>\n",
       "      <td>2020Q1</td>\n",
       "      <td>5/11/2020</td>\n",
       "      <td>-9.170058</td>\n",
       "    </tr>\n",
       "    <tr>\n",
       "      <th>4</th>\n",
       "      <td>29332-0000029332-07-000098.txt</td>\n",
       "      <td>EX-99.1 2 ex991pressrel73107. htm PRESS RELEAS...</td>\n",
       "      <td>2007Q2</td>\n",
       "      <td>7/31/2007</td>\n",
       "      <td>8.671501</td>\n",
       "    </tr>\n",
       "    <tr>\n",
       "      <th>...</th>\n",
       "      <td>...</td>\n",
       "      <td>...</td>\n",
       "      <td>...</td>\n",
       "      <td>...</td>\n",
       "      <td>...</td>\n",
       "    </tr>\n",
       "    <tr>\n",
       "      <th>12495</th>\n",
       "      <td>883902-0000883902-20-000016.txt</td>\n",
       "      <td>EX-99.1 2 a2019q4exh991. htm EX-99.1     Docum...</td>\n",
       "      <td>2019Q4</td>\n",
       "      <td>3/3/2020</td>\n",
       "      <td>5.110050</td>\n",
       "    </tr>\n",
       "    <tr>\n",
       "      <th>12496</th>\n",
       "      <td>917470-0001157523-08-006146.txt</td>\n",
       "      <td>EX-99.1 2 a5744289-ex991. htm EXHIBIT 99.1    ...</td>\n",
       "      <td>2008Q2</td>\n",
       "      <td>7/31/2008</td>\n",
       "      <td>-17.319616</td>\n",
       "    </tr>\n",
       "    <tr>\n",
       "      <th>12497</th>\n",
       "      <td>1058090-0001193125-07-166748.txt</td>\n",
       "      <td>EX-99.1 2 dex991. htm PRESS RELEASE  Press Rel...</td>\n",
       "      <td>2007Q2</td>\n",
       "      <td>7/31/2007</td>\n",
       "      <td>26.078641</td>\n",
       "    </tr>\n",
       "    <tr>\n",
       "      <th>12498</th>\n",
       "      <td>1049502-0001299933-09-002997.txt</td>\n",
       "      <td>EX-99.1 2 exhibit1. htm EX-99.1    EX-99.1   (...</td>\n",
       "      <td>2009Q2</td>\n",
       "      <td>7/22/2009</td>\n",
       "      <td>8.731096</td>\n",
       "    </tr>\n",
       "    <tr>\n",
       "      <th>12499</th>\n",
       "      <td>1334036-0001104659-09-062912.txt</td>\n",
       "      <td>EX-99.1 2 a09-30983_2ex99d1. htm EX-99.1   Exh...</td>\n",
       "      <td>2009Q3</td>\n",
       "      <td>11/5/2009</td>\n",
       "      <td>-17.950094</td>\n",
       "    </tr>\n",
       "  </tbody>\n",
       "</table>\n",
       "<p>12500 rows × 5 columns</p>\n",
       "</div>"
      ],
      "text/plain": [
       "                              File_Name  \\\n",
       "0       714603-0001104659-11-059721.txt   \n",
       "1       772897-0000950134-06-020331.txt   \n",
       "2       775158-0001564590-20-048540.txt   \n",
       "3        16040-0001157523-20-000728.txt   \n",
       "4        29332-0000029332-07-000098.txt   \n",
       "...                                 ...   \n",
       "12495   883902-0000883902-20-000016.txt   \n",
       "12496   917470-0001157523-08-006146.txt   \n",
       "12497  1058090-0001193125-07-166748.txt   \n",
       "12498  1049502-0001299933-09-002997.txt   \n",
       "12499  1334036-0001104659-09-062912.txt   \n",
       "\n",
       "                                                 ea_text datacqtr  \\\n",
       "0      EX-99.1 3 a11-28994_1ex99d1. htm EX-99.1   Exh...   2011Q3   \n",
       "1      EX-99.1 2 c09674exv99w1. htm PRESS RELEASE  ex...   2006Q3   \n",
       "2      EX-99.1 2 osk-ex991_6. htm EX-99.1    osk-ex99...   2020Q3   \n",
       "3      EX-99.1 2 a52217903ex99_1. htm EXHIBIT 99.1   ...   2020Q1   \n",
       "4      EX-99.1 2 ex991pressrel73107. htm PRESS RELEAS...   2007Q2   \n",
       "...                                                  ...      ...   \n",
       "12495  EX-99.1 2 a2019q4exh991. htm EX-99.1     Docum...   2019Q4   \n",
       "12496  EX-99.1 2 a5744289-ex991. htm EXHIBIT 99.1    ...   2008Q2   \n",
       "12497  EX-99.1 2 dex991. htm PRESS RELEASE  Press Rel...   2007Q2   \n",
       "12498  EX-99.1 2 exhibit1. htm EX-99.1    EX-99.1   (...   2009Q2   \n",
       "12499  EX-99.1 2 a09-30983_2ex99d1. htm EX-99.1   Exh...   2009Q3   \n",
       "\n",
       "      announce_date    BHAR0_2  \n",
       "0        10/28/2011  -4.513975  \n",
       "1         11/2/2006  -2.001589  \n",
       "2        10/29/2020  -2.112353  \n",
       "3         5/11/2020  -9.170058  \n",
       "4         7/31/2007   8.671501  \n",
       "...             ...        ...  \n",
       "12495      3/3/2020   5.110050  \n",
       "12496     7/31/2008 -17.319616  \n",
       "12497     7/31/2007  26.078641  \n",
       "12498     7/22/2009   8.731096  \n",
       "12499     11/5/2009 -17.950094  \n",
       "\n",
       "[12500 rows x 5 columns]"
      ]
     },
     "execution_count": 16,
     "metadata": {},
     "output_type": "execute_result"
    }
   ],
   "source": [
    "# Insert code to load the dataset into a dataframe called \"df\"\n",
    "\n",
    "df = pd.read_csv(\"./ExpTask2Data.csv.gz\")\n",
    "df\n"
   ]
  },
  {
   "cell_type": "markdown",
   "id": "ed2869d2",
   "metadata": {},
   "source": [
    "**Pre-process**"
   ]
  },
  {
   "cell_type": "code",
   "execution_count": 3,
   "id": "fb02b527",
   "metadata": {},
   "outputs": [],
   "source": [
    "\n",
    "def clean_sentences(txt):\n",
    "    #regular expression to \"...\" to clean out financial numbers:\n",
    "    clean_txt = re.sub(r\"\\b\\d+\\b\",\" financial_number \",txt) \n",
    "    good_sents = []\n",
    "    \n",
    "    #tokenize sentences = generate list of sentences \n",
    "    sentences = sent_tokenize(clean_txt)\n",
    "    \n",
    "    for sent in sentences:\n",
    "        good_tokens = []\n",
    "        tokens = word_tokenize(sent) #tokenize words in the sentence \n",
    "        \n",
    "        for token in tokens:               \n",
    "            # apply logic above, building list of \"good tokens\"=filter out non-alpha or non-\"financial_number\"\n",
    "            if token.isalpha() or token ==\"financial_number\":\n",
    "                good_tokens.append(token)\n",
    "                \n",
    "                \n",
    "        # logic to check if there are sufficient tokens to keep the sentence (5 or more tokens, no more than 50% financial numbers):\n",
    "        if len(good_tokens) >=5 and (good_tokens.count(\"financial_number\")/len(good_tokens)) <=0.5:\n",
    "            good_sents.append(sent)\n",
    "                \n",
    "    \n",
    "    return \" \".join(good_sents)        "
   ]
  },
  {
   "cell_type": "markdown",
   "id": "d93524e4",
   "metadata": {},
   "source": [
    "**Apply function to the text (\"ea_text\") column..takes about 15-20 mins to run.**"
   ]
  },
  {
   "cell_type": "code",
   "execution_count": 4,
   "id": "c91e6c40-7014-43c6-aae8-3005e18904a6",
   "metadata": {},
   "outputs": [
    {
     "data": {
      "text/html": [
       "<div>\n",
       "<style scoped>\n",
       "    .dataframe tbody tr th:only-of-type {\n",
       "        vertical-align: middle;\n",
       "    }\n",
       "\n",
       "    .dataframe tbody tr th {\n",
       "        vertical-align: top;\n",
       "    }\n",
       "\n",
       "    .dataframe thead th {\n",
       "        text-align: right;\n",
       "    }\n",
       "</style>\n",
       "<table border=\"1\" class=\"dataframe\">\n",
       "  <thead>\n",
       "    <tr style=\"text-align: right;\">\n",
       "      <th></th>\n",
       "      <th>File_Name</th>\n",
       "      <th>ea_text</th>\n",
       "      <th>datacqtr</th>\n",
       "      <th>announce_date</th>\n",
       "      <th>BHAR0_2</th>\n",
       "      <th>clean_sent</th>\n",
       "    </tr>\n",
       "  </thead>\n",
       "  <tbody>\n",
       "    <tr>\n",
       "      <th>0</th>\n",
       "      <td>714603-0001104659-11-059721.txt</td>\n",
       "      <td>EX-99.1 3 a11-28994_1ex99d1. htm EX-99.1   Exh...</td>\n",
       "      <td>2011Q3</td>\n",
       "      <td>10/28/2011</td>\n",
       "      <td>-4.513975</td>\n",
       "      <td>financial_number       NEWS RELEASE        C20...</td>\n",
       "    </tr>\n",
       "    <tr>\n",
       "      <th>1</th>\n",
       "      <td>772897-0000950134-06-020331.txt</td>\n",
       "      <td>EX-99.1 2 c09674exv99w1. htm PRESS RELEASE  ex...</td>\n",
       "      <td>2006Q3</td>\n",
       "      <td>11/2/2006</td>\n",
       "      <td>-2.001589</td>\n",
       "      <td>htm PRESS RELEASE  exv99w1     EXHIBIT  financ...</td>\n",
       "    </tr>\n",
       "    <tr>\n",
       "      <th>2</th>\n",
       "      <td>775158-0001564590-20-048540.txt</td>\n",
       "      <td>EX-99.1 2 osk-ex991_6. htm EX-99.1    osk-ex99...</td>\n",
       "      <td>2020Q3</td>\n",
       "      <td>10/29/2020</td>\n",
       "      <td>-2.112353</td>\n",
       "      <td>financial_number     O S H K O S H  C O R P O ...</td>\n",
       "    </tr>\n",
       "    <tr>\n",
       "      <th>3</th>\n",
       "      <td>16040-0001157523-20-000728.txt</td>\n",
       "      <td>EX-99.1 2 a52217903ex99_1. htm EXHIBIT 99.1   ...</td>\n",
       "      <td>2020Q1</td>\n",
       "      <td>5/11/2020</td>\n",
       "      <td>-9.170058</td>\n",
       "      <td>financial_number         Cabot Corp Reports Se...</td>\n",
       "    </tr>\n",
       "    <tr>\n",
       "      <th>4</th>\n",
       "      <td>29332-0000029332-07-000098.txt</td>\n",
       "      <td>EX-99.1 2 ex991pressrel73107. htm PRESS RELEAS...</td>\n",
       "      <td>2007Q2</td>\n",
       "      <td>7/31/2007</td>\n",
       "      <td>8.671501</td>\n",
       "      <td>htm PRESS RELEASE   THE DIXIE GROUP, INC   EXH...</td>\n",
       "    </tr>\n",
       "  </tbody>\n",
       "</table>\n",
       "</div>"
      ],
      "text/plain": [
       "                         File_Name  \\\n",
       "0  714603-0001104659-11-059721.txt   \n",
       "1  772897-0000950134-06-020331.txt   \n",
       "2  775158-0001564590-20-048540.txt   \n",
       "3   16040-0001157523-20-000728.txt   \n",
       "4   29332-0000029332-07-000098.txt   \n",
       "\n",
       "                                             ea_text datacqtr announce_date  \\\n",
       "0  EX-99.1 3 a11-28994_1ex99d1. htm EX-99.1   Exh...   2011Q3    10/28/2011   \n",
       "1  EX-99.1 2 c09674exv99w1. htm PRESS RELEASE  ex...   2006Q3     11/2/2006   \n",
       "2  EX-99.1 2 osk-ex991_6. htm EX-99.1    osk-ex99...   2020Q3    10/29/2020   \n",
       "3  EX-99.1 2 a52217903ex99_1. htm EXHIBIT 99.1   ...   2020Q1     5/11/2020   \n",
       "4  EX-99.1 2 ex991pressrel73107. htm PRESS RELEAS...   2007Q2     7/31/2007   \n",
       "\n",
       "    BHAR0_2                                         clean_sent  \n",
       "0 -4.513975  financial_number       NEWS RELEASE        C20...  \n",
       "1 -2.001589  htm PRESS RELEASE  exv99w1     EXHIBIT  financ...  \n",
       "2 -2.112353  financial_number     O S H K O S H  C O R P O ...  \n",
       "3 -9.170058  financial_number         Cabot Corp Reports Se...  \n",
       "4  8.671501  htm PRESS RELEASE   THE DIXIE GROUP, INC   EXH...  "
      ]
     },
     "execution_count": 4,
     "metadata": {},
     "output_type": "execute_result"
    }
   ],
   "source": [
    "df['clean_sent'] =df['ea_text'].apply(clean_sentences)\n",
    "df.head(5)"
   ]
  },
  {
   "cell_type": "markdown",
   "id": "720a7965-7caf-4ec2-b8dd-acd8fdef5dc4",
   "metadata": {},
   "source": [
    "**Saving dataframe to avoid re-running the above code.**"
   ]
  },
  {
   "cell_type": "code",
   "execution_count": 5,
   "id": "649ca1b0-87b1-4609-9641-549b77436524",
   "metadata": {},
   "outputs": [],
   "source": [
    "# To save:\n",
    "df.to_csv(\"./task2_data_clean.csv.gz\",index=False)"
   ]
  },
  {
   "cell_type": "code",
   "execution_count": 2,
   "id": "3093882c-bd09-47e4-a1cf-5186c257b3c4",
   "metadata": {},
   "outputs": [],
   "source": [
    "# To load:\n",
    "df = pd.read_csv(\"./task2_data_clean.csv.gz\")"
   ]
  },
  {
   "cell_type": "code",
   "execution_count": 3,
   "id": "93c85e03-3bfa-4b36-b46d-7d401e2fed30",
   "metadata": {},
   "outputs": [
    {
     "data": {
      "text/html": [
       "<div>\n",
       "<style scoped>\n",
       "    .dataframe tbody tr th:only-of-type {\n",
       "        vertical-align: middle;\n",
       "    }\n",
       "\n",
       "    .dataframe tbody tr th {\n",
       "        vertical-align: top;\n",
       "    }\n",
       "\n",
       "    .dataframe thead th {\n",
       "        text-align: right;\n",
       "    }\n",
       "</style>\n",
       "<table border=\"1\" class=\"dataframe\">\n",
       "  <thead>\n",
       "    <tr style=\"text-align: right;\">\n",
       "      <th></th>\n",
       "      <th>File_Name</th>\n",
       "      <th>ea_text</th>\n",
       "      <th>datacqtr</th>\n",
       "      <th>announce_date</th>\n",
       "      <th>BHAR0_2</th>\n",
       "      <th>clean_sent</th>\n",
       "    </tr>\n",
       "  </thead>\n",
       "  <tbody>\n",
       "    <tr>\n",
       "      <th>0</th>\n",
       "      <td>714603-0001104659-11-059721.txt</td>\n",
       "      <td>EX-99.1 3 a11-28994_1ex99d1. htm EX-99.1   Exh...</td>\n",
       "      <td>2011Q3</td>\n",
       "      <td>10/28/2011</td>\n",
       "      <td>-4.513975</td>\n",
       "      <td>financial_number       NEWS RELEASE        C20...</td>\n",
       "    </tr>\n",
       "    <tr>\n",
       "      <th>1</th>\n",
       "      <td>772897-0000950134-06-020331.txt</td>\n",
       "      <td>EX-99.1 2 c09674exv99w1. htm PRESS RELEASE  ex...</td>\n",
       "      <td>2006Q3</td>\n",
       "      <td>11/2/2006</td>\n",
       "      <td>-2.001589</td>\n",
       "      <td>htm PRESS RELEASE  exv99w1     EXHIBIT  financ...</td>\n",
       "    </tr>\n",
       "    <tr>\n",
       "      <th>2</th>\n",
       "      <td>775158-0001564590-20-048540.txt</td>\n",
       "      <td>EX-99.1 2 osk-ex991_6. htm EX-99.1    osk-ex99...</td>\n",
       "      <td>2020Q3</td>\n",
       "      <td>10/29/2020</td>\n",
       "      <td>-2.112353</td>\n",
       "      <td>financial_number     O S H K O S H  C O R P O ...</td>\n",
       "    </tr>\n",
       "    <tr>\n",
       "      <th>3</th>\n",
       "      <td>16040-0001157523-20-000728.txt</td>\n",
       "      <td>EX-99.1 2 a52217903ex99_1. htm EXHIBIT 99.1   ...</td>\n",
       "      <td>2020Q1</td>\n",
       "      <td>5/11/2020</td>\n",
       "      <td>-9.170058</td>\n",
       "      <td>financial_number         Cabot Corp Reports Se...</td>\n",
       "    </tr>\n",
       "    <tr>\n",
       "      <th>4</th>\n",
       "      <td>29332-0000029332-07-000098.txt</td>\n",
       "      <td>EX-99.1 2 ex991pressrel73107. htm PRESS RELEAS...</td>\n",
       "      <td>2007Q2</td>\n",
       "      <td>7/31/2007</td>\n",
       "      <td>8.671501</td>\n",
       "      <td>htm PRESS RELEASE   THE DIXIE GROUP, INC   EXH...</td>\n",
       "    </tr>\n",
       "    <tr>\n",
       "      <th>...</th>\n",
       "      <td>...</td>\n",
       "      <td>...</td>\n",
       "      <td>...</td>\n",
       "      <td>...</td>\n",
       "      <td>...</td>\n",
       "      <td>...</td>\n",
       "    </tr>\n",
       "    <tr>\n",
       "      <th>12495</th>\n",
       "      <td>883902-0000883902-20-000016.txt</td>\n",
       "      <td>EX-99.1 2 a2019q4exh991. htm EX-99.1     Docum...</td>\n",
       "      <td>2019Q4</td>\n",
       "      <td>3/3/2020</td>\n",
       "      <td>5.110050</td>\n",
       "      <td>financial_number      DocumentNEWS RELEASECorn...</td>\n",
       "    </tr>\n",
       "    <tr>\n",
       "      <th>12496</th>\n",
       "      <td>917470-0001157523-08-006146.txt</td>\n",
       "      <td>EX-99.1 2 a5744289-ex991. htm EXHIBIT 99.1    ...</td>\n",
       "      <td>2008Q2</td>\n",
       "      <td>7/31/2008</td>\n",
       "      <td>-17.319616</td>\n",
       "      <td>financial_number    Olympic       Steel Report...</td>\n",
       "    </tr>\n",
       "    <tr>\n",
       "      <th>12497</th>\n",
       "      <td>1058090-0001193125-07-166748.txt</td>\n",
       "      <td>EX-99.1 2 dex991. htm PRESS RELEASE  Press Rel...</td>\n",
       "      <td>2007Q2</td>\n",
       "      <td>7/31/2007</td>\n",
       "      <td>26.078641</td>\n",
       "      <td>htm PRESS RELEASE  Press Release Exhibit  fina...</td>\n",
       "    </tr>\n",
       "    <tr>\n",
       "      <th>12498</th>\n",
       "      <td>1049502-0001299933-09-002997.txt</td>\n",
       "      <td>EX-99.1 2 exhibit1. htm EX-99.1    EX-99.1   (...</td>\n",
       "      <td>2009Q2</td>\n",
       "      <td>7/22/2009</td>\n",
       "      <td>8.731096</td>\n",
       "      <td>financial_number    (MKS LOGO)   EXHIBIT  fina...</td>\n",
       "    </tr>\n",
       "    <tr>\n",
       "      <th>12499</th>\n",
       "      <td>1334036-0001104659-09-062912.txt</td>\n",
       "      <td>EX-99.1 2 a09-30983_2ex99d1. htm EX-99.1   Exh...</td>\n",
       "      <td>2009Q3</td>\n",
       "      <td>11/5/2009</td>\n",
       "      <td>-17.950094</td>\n",
       "      <td>financial_number           For:   Crocs, Inc. ...</td>\n",
       "    </tr>\n",
       "  </tbody>\n",
       "</table>\n",
       "<p>12500 rows × 6 columns</p>\n",
       "</div>"
      ],
      "text/plain": [
       "                              File_Name  \\\n",
       "0       714603-0001104659-11-059721.txt   \n",
       "1       772897-0000950134-06-020331.txt   \n",
       "2       775158-0001564590-20-048540.txt   \n",
       "3        16040-0001157523-20-000728.txt   \n",
       "4        29332-0000029332-07-000098.txt   \n",
       "...                                 ...   \n",
       "12495   883902-0000883902-20-000016.txt   \n",
       "12496   917470-0001157523-08-006146.txt   \n",
       "12497  1058090-0001193125-07-166748.txt   \n",
       "12498  1049502-0001299933-09-002997.txt   \n",
       "12499  1334036-0001104659-09-062912.txt   \n",
       "\n",
       "                                                 ea_text datacqtr  \\\n",
       "0      EX-99.1 3 a11-28994_1ex99d1. htm EX-99.1   Exh...   2011Q3   \n",
       "1      EX-99.1 2 c09674exv99w1. htm PRESS RELEASE  ex...   2006Q3   \n",
       "2      EX-99.1 2 osk-ex991_6. htm EX-99.1    osk-ex99...   2020Q3   \n",
       "3      EX-99.1 2 a52217903ex99_1. htm EXHIBIT 99.1   ...   2020Q1   \n",
       "4      EX-99.1 2 ex991pressrel73107. htm PRESS RELEAS...   2007Q2   \n",
       "...                                                  ...      ...   \n",
       "12495  EX-99.1 2 a2019q4exh991. htm EX-99.1     Docum...   2019Q4   \n",
       "12496  EX-99.1 2 a5744289-ex991. htm EXHIBIT 99.1    ...   2008Q2   \n",
       "12497  EX-99.1 2 dex991. htm PRESS RELEASE  Press Rel...   2007Q2   \n",
       "12498  EX-99.1 2 exhibit1. htm EX-99.1    EX-99.1   (...   2009Q2   \n",
       "12499  EX-99.1 2 a09-30983_2ex99d1. htm EX-99.1   Exh...   2009Q3   \n",
       "\n",
       "      announce_date    BHAR0_2  \\\n",
       "0        10/28/2011  -4.513975   \n",
       "1         11/2/2006  -2.001589   \n",
       "2        10/29/2020  -2.112353   \n",
       "3         5/11/2020  -9.170058   \n",
       "4         7/31/2007   8.671501   \n",
       "...             ...        ...   \n",
       "12495      3/3/2020   5.110050   \n",
       "12496     7/31/2008 -17.319616   \n",
       "12497     7/31/2007  26.078641   \n",
       "12498     7/22/2009   8.731096   \n",
       "12499     11/5/2009 -17.950094   \n",
       "\n",
       "                                              clean_sent  \n",
       "0      financial_number       NEWS RELEASE        C20...  \n",
       "1      htm PRESS RELEASE  exv99w1     EXHIBIT  financ...  \n",
       "2      financial_number     O S H K O S H  C O R P O ...  \n",
       "3      financial_number         Cabot Corp Reports Se...  \n",
       "4      htm PRESS RELEASE   THE DIXIE GROUP, INC   EXH...  \n",
       "...                                                  ...  \n",
       "12495  financial_number      DocumentNEWS RELEASECorn...  \n",
       "12496  financial_number    Olympic       Steel Report...  \n",
       "12497  htm PRESS RELEASE  Press Release Exhibit  fina...  \n",
       "12498  financial_number    (MKS LOGO)   EXHIBIT  fina...  \n",
       "12499  financial_number           For:   Crocs, Inc. ...  \n",
       "\n",
       "[12500 rows x 6 columns]"
      ]
     },
     "execution_count": 3,
     "metadata": {},
     "output_type": "execute_result"
    }
   ],
   "source": [
    "df"
   ]
  },
  {
   "cell_type": "markdown",
   "id": "dc591ca4",
   "metadata": {},
   "source": [
    "**Generating document term matrix using CountVectorizer (since going to fit LDA model)**"
   ]
  },
  {
   "cell_type": "code",
   "execution_count": 4,
   "id": "2b2b945a-eb82-469d-b2c4-12b2a69ac2cd",
   "metadata": {},
   "outputs": [
    {
     "data": {
      "text/plain": [
       "<12500x1000 sparse matrix of type '<class 'numpy.int64'>'\n",
       "\twith 3486369 stored elements in Compressed Sparse Row format>"
      ]
     },
     "execution_count": 4,
     "metadata": {},
     "output_type": "execute_result"
    }
   ],
   "source": [
    "\n",
    "stops = stopwords.words('english') #set(stopwords.words('english'))\n",
    "\n",
    "vec = CountVectorizer(token_pattern = r'\\b[a-zA-Z_]{3,}[a-zA-Z]*\\b',\n",
    "                      stop_words = stops,   #list(stops),\n",
    "                      ngram_range = (1,2),\n",
    "                      max_features = 1000,\n",
    "                     max_df = 0.5) \n",
    "dtm = vec.fit_transform(df['clean_sent'])\n",
    "dtm"
   ]
  },
  {
   "cell_type": "markdown",
   "id": "497983cb",
   "metadata": {},
   "source": [
    "**Fitting LDA model**"
   ]
  },
  {
   "cell_type": "code",
   "execution_count": 5,
   "id": "fd7817d6-48d1-4d86-b876-b30780462893",
   "metadata": {},
   "outputs": [
    {
     "name": "stdout",
     "output_type": "stream",
     "text": [
      "Fitting 40 topics\n",
      "Fitting 50 topics\n",
      "Fitting 60 topics\n",
      "Fitting 70 topics\n",
      "Fitting 80 topics\n",
      "Fitting 90 topics\n",
      "Fitting 100 topics\n",
      "Fitting 110 topics\n",
      "Fitting 120 topics\n",
      "Fitting 130 topics\n",
      "Fitting 140 topics\n",
      "Fitting 150 topics\n"
     ]
    }
   ],
   "source": [
    "\n",
    "# sample of 5000 for training; use random_state=123\n",
    "sample = pd.DataFrame(dtm.todense()).sample(5000,random_state=123)\n",
    "\n",
    "# Set up \"vocab\", a list of feature names\n",
    "vocab = np.array(vec.get_feature_names_out())\n",
    "\n",
    "\n",
    "# Set up empty list to collect diagnostics\n",
    "records = []\n",
    "for top in range(40, 151, 10): #trying between 40 and 150 topics\n",
    "    print(f\"Fitting {top} topics\")\n",
    "    record = {'topics':top}\n",
    "    # Fill in missing parameters\n",
    "    lda = LDA(n_components = top,\n",
    "              topic_word_prior = 0.15,\n",
    "              doc_topic_prior = 25/top,\n",
    "              n_jobs = -1,\n",
    "              random_state=123)\n",
    "\n",
    "    lda.fit(sample) # Add code to fit the best model & generate topic scores \n",
    "    top_word = lda.components_\n",
    "    \n",
    "    ## Add code to compute umass, add mean umass to \"record\", and collect record in list\n",
    "    umass = metric_coherence_gensim(measure=\"u_mass\",\n",
    "                                   top_n=5,\n",
    "                                   topic_word_distrib = top_word,\n",
    "                                   dtm = sample.values,\n",
    "                                   vocab = vocab,\n",
    "                                   texts = None)\n",
    "    record['mean_umass'] = np.mean(umass)\n",
    "    records.append(record)"
   ]
  },
  {
   "cell_type": "markdown",
   "id": "c59c8eac",
   "metadata": {},
   "source": [
    "**Using coherence score, u_mass, to evaluate topic quality and choosing optimum number of topics.**"
   ]
  },
  {
   "cell_type": "code",
   "execution_count": 6,
   "id": "377c2bd0",
   "metadata": {},
   "outputs": [
    {
     "data": {
      "text/html": [
       "<div>\n",
       "<style scoped>\n",
       "    .dataframe tbody tr th:only-of-type {\n",
       "        vertical-align: middle;\n",
       "    }\n",
       "\n",
       "    .dataframe tbody tr th {\n",
       "        vertical-align: top;\n",
       "    }\n",
       "\n",
       "    .dataframe thead th {\n",
       "        text-align: right;\n",
       "    }\n",
       "</style>\n",
       "<table border=\"1\" class=\"dataframe\">\n",
       "  <thead>\n",
       "    <tr style=\"text-align: right;\">\n",
       "      <th></th>\n",
       "      <th>topics</th>\n",
       "      <th>mean_umass</th>\n",
       "    </tr>\n",
       "  </thead>\n",
       "  <tbody>\n",
       "    <tr>\n",
       "      <th>0</th>\n",
       "      <td>40</td>\n",
       "      <td>-0.864725</td>\n",
       "    </tr>\n",
       "    <tr>\n",
       "      <th>1</th>\n",
       "      <td>50</td>\n",
       "      <td>-0.842592</td>\n",
       "    </tr>\n",
       "    <tr>\n",
       "      <th>2</th>\n",
       "      <td>60</td>\n",
       "      <td>-0.889662</td>\n",
       "    </tr>\n",
       "    <tr>\n",
       "      <th>3</th>\n",
       "      <td>70</td>\n",
       "      <td>-0.848689</td>\n",
       "    </tr>\n",
       "    <tr>\n",
       "      <th>4</th>\n",
       "      <td>80</td>\n",
       "      <td>-0.852778</td>\n",
       "    </tr>\n",
       "    <tr>\n",
       "      <th>5</th>\n",
       "      <td>90</td>\n",
       "      <td>-0.876745</td>\n",
       "    </tr>\n",
       "    <tr>\n",
       "      <th>6</th>\n",
       "      <td>100</td>\n",
       "      <td>-0.851519</td>\n",
       "    </tr>\n",
       "    <tr>\n",
       "      <th>7</th>\n",
       "      <td>110</td>\n",
       "      <td>-0.861324</td>\n",
       "    </tr>\n",
       "    <tr>\n",
       "      <th>8</th>\n",
       "      <td>120</td>\n",
       "      <td>-0.863381</td>\n",
       "    </tr>\n",
       "    <tr>\n",
       "      <th>9</th>\n",
       "      <td>130</td>\n",
       "      <td>-0.876151</td>\n",
       "    </tr>\n",
       "    <tr>\n",
       "      <th>10</th>\n",
       "      <td>140</td>\n",
       "      <td>-0.860979</td>\n",
       "    </tr>\n",
       "    <tr>\n",
       "      <th>11</th>\n",
       "      <td>150</td>\n",
       "      <td>-0.890662</td>\n",
       "    </tr>\n",
       "  </tbody>\n",
       "</table>\n",
       "</div>"
      ],
      "text/plain": [
       "    topics  mean_umass\n",
       "0       40   -0.864725\n",
       "1       50   -0.842592\n",
       "2       60   -0.889662\n",
       "3       70   -0.848689\n",
       "4       80   -0.852778\n",
       "5       90   -0.876745\n",
       "6      100   -0.851519\n",
       "7      110   -0.861324\n",
       "8      120   -0.863381\n",
       "9      130   -0.876151\n",
       "10     140   -0.860979\n",
       "11     150   -0.890662"
      ]
     },
     "execution_count": 6,
     "metadata": {},
     "output_type": "execute_result"
    }
   ],
   "source": [
    "diagnostics = pd.DataFrame(records)\n",
    "diagnostics"
   ]
  },
  {
   "cell_type": "code",
   "execution_count": 7,
   "id": "43ec6164-973a-44f7-a32e-75d4cf724dec",
   "metadata": {},
   "outputs": [
    {
     "data": {
      "text/plain": [
       "[<matplotlib.lines.Line2D at 0x22ad8d6c790>]"
      ]
     },
     "execution_count": 7,
     "metadata": {},
     "output_type": "execute_result"
    },
    {
     "data": {
      "image/png": "[encoded data removed]",
      "text/plain": [
       "<Figure size 640x480 with 1 Axes>"
      ]
     },
     "metadata": {},
     "output_type": "display_data"
    }
   ],
   "source": [
    "import matplotlib.pyplot as plt\n",
    "fig,ax = plt.subplots()\n",
    "ax.plot(diagnostics['topics'],diagnostics['mean_umass'])"
   ]
  },
  {
   "cell_type": "markdown",
   "id": "d2ba52dd",
   "metadata": {},
   "source": [
    "**The mean_umass seems to be the lowest for 50 topics, thus selecting optimum number of topics around 50.**"
   ]
  },
  {
   "cell_type": "markdown",
   "id": "1938ea52",
   "metadata": {},
   "source": [
    "**Fitting a final LDA model using 50 topics**"
   ]
  },
  {
   "cell_type": "code",
   "execution_count": 8,
   "id": "87c44a15-4545-4035-a56c-8aae6027ecb9",
   "metadata": {},
   "outputs": [],
   "source": [
    "\n",
    "best_model_record = max(records, key=lambda x: x['mean_umass'])\n",
    "optimal_topics = best_model_record['topics']\n",
    "\n",
    "# Set up final lda model:\n",
    "final_lda = LDA(\n",
    "    n_components=50, #50 topics \n",
    "    topic_word_prior=0.15,\n",
    "    doc_topic_prior=25 / 50,\n",
    "    n_jobs=-1,\n",
    "    random_state=123\n",
    ")\n",
    "\n",
    "\n",
    "# Fit final model and transform the DTM\n",
    "topics = final_lda.fit_transform(dtm)"
   ]
  },
  {
   "cell_type": "code",
   "execution_count": 9,
   "id": "c0ef8431-0bbf-4fad-8552-3c91575f00d5",
   "metadata": {},
   "outputs": [
    {
     "data": {
      "text/plain": [
       "array([[0.04072831, 0.00036659, 0.00151792, ..., 0.00060348, 0.00039895,\n",
       "        0.01823853],\n",
       "       [0.00139061, 0.08262306, 0.00102112, ..., 0.00403085, 0.00106431,\n",
       "        0.00158619],\n",
       "       [0.0016996 , 0.00095495, 0.00090434, ..., 0.00066517, 0.0006053 ,\n",
       "        0.01323188],\n",
       "       ...,\n",
       "       [0.00191241, 0.00213517, 0.0012099 , ..., 0.00191902, 0.00143915,\n",
       "        0.0012808 ],\n",
       "       [0.00126382, 0.00123792, 0.00191831, ..., 0.00182402, 0.00114119,\n",
       "        0.00129105],\n",
       "       [0.0085591 , 0.15459034, 0.00100014, ..., 0.00118851, 0.00151215,\n",
       "        0.00116891]])"
      ]
     },
     "execution_count": 9,
     "metadata": {},
     "output_type": "execute_result"
    }
   ],
   "source": [
    "topics # view topics matrix"
   ]
  },
  {
   "cell_type": "code",
   "execution_count": 10,
   "id": "50513055",
   "metadata": {},
   "outputs": [
    {
     "data": {
      "text/plain": [
       "(12500, 50)"
      ]
     },
     "execution_count": 10,
     "metadata": {},
     "output_type": "execute_result"
    }
   ],
   "source": [
    "topics.shape"
   ]
  },
  {
   "cell_type": "markdown",
   "id": "28c20df3",
   "metadata": {},
   "source": [
    "**Inspecting top 5 words associated with each topic and a randomly chosen word from the vocabulary, separately identified as an intruder.**"
   ]
  },
  {
   "cell_type": "code",
   "execution_count": 11,
   "id": "6afe213e-d5ed-4c6f-afaa-97646a2c618a",
   "metadata": {},
   "outputs": [
    {
     "name": "stdout",
     "output_type": "stream",
     "text": [
      "Topic 0 words: tax rate | effective | pension | effective tax | segment\t Intruder: project\n",
      "Topic 1 words: financial_number deferred | payable financial_number | total current | financial_number shares | stockholders equity\t Intruder: used operating\n",
      "Topic 2 words: adjusted operating | intangible | financial_number adjusted | fair | fair value\t Intruder: partners\n",
      "Topic 3 words: eps | diluted earnings | diluted eps | acquisition related | gaap operating\t Intruder: fees\n",
      "Topic 4 words: construction | segment | prices | industries | materials\t Intruder: period period\n",
      "Topic 5 words: june | june financial_number | restricted | restricted cash | cash used\t Intruder: financial_number revenues\n",
      "Topic 6 words: network | wireless | access | communications | technology\t Intruder: effective tax\n",
      "Topic 7 words: pre | pre tax | charge | tax financial_number | charge financial_number\t Intruder: order\n",
      "Topic 8 words: june | june financial_number | ended june | six | six months\t Intruder: income adjusted\n",
      "Topic 9 words: production | credits | sold | price | project\t Intruder: constant\n",
      "Topic 10 words: attributable | income attributable | health | noncontrolling | stockholders\t Intruder: prepared\n",
      "Topic 11 words: june | june financial_number | ended june | financial_number june | august\t Intruder: november\n",
      "Topic 12 words: special | special items | pretax | underlying | items financial_number\t Intruder: outstanding financial_number\n",
      "Topic 13 words: energy | power | orders | manufacturing | industrial\t Intruder: compared net\n",
      "Topic 14 words: percent | financial_number percent | percent financial_number | percent compared | billion\t Intruder: exhibit\n",
      "Topic 15 words: note | net revenue | integration | acquisition related | recorded\t Intruder: marketing\n",
      "Topic 16 words: billion | financial_number billion | production | corporation | oil\t Intruder: early\n",
      "Topic 17 words: ebitda | adjusted ebitda | ebitda adjusted | ebitda financial_number | financial_number adjusted\t Intruder: focus\n",
      "Topic 18 words: profit | gross profit | selling | profit financial_number | financial_number gross\t Intruder: common share\n",
      "Topic 19 words: adjusted net | income per | financial_number adjusted | income adjusted | gaap adjusted\t Intruder: environmental\n",
      "Topic 20 words: points | financial_number basis | basis points | organic | eps\t Intruder: financial_number restructuring\n",
      "Topic 21 words: six | six months | financial_number second | half | first half\t Intruder: actions\n",
      "Topic 22 words: retail | store | stores | vehicle | automotive\t Intruder: efforts\n",
      "Topic 23 words: systems | technologies | solutions | year ago | ago\t Intruder: fair\n",
      "Topic 24 words: fuel | transportation | ratio | air | operating expenses\t Intruder: affiliates\n",
      "Topic 25 words: currency | foreign | constant | foreign currency | constant currency\t Intruder: ended december\n",
      "Topic 26 words: restaurant | weeks | restaurants | owned | food\t Intruder: anticipates\n",
      "Topic 27 words: gaap net | gross margin | financial_number gaap | gaap measures | gaap operating\t Intruder: fiscal year\n",
      "Topic 28 words: covid | covid financial_number | actions | employees | liquidity\t Intruder: group\n",
      "Topic 29 words: year period | million prior | ebitda | adjusted ebitda | june\t Intruder: financial_number weighted\n",
      "Topic 30 words: june | june financial_number | six | six months | ended june\t Intruder: operational\n",
      "Topic 31 words: ebitda | adjusted ebitda | segment | year quarter | financial_number adjusted\t Intruder: commodity\n",
      "Topic 32 words: oil | gas | production | natural | natural gas\t Intruder: uses\n",
      "Topic 33 words: america | north | north america | ebit | europe\t Intruder: financial_number ebitda\n",
      "Topic 34 words: group | group inc | add | financial_number add | ebitda\t Intruder: legal\n",
      "Topic 35 words: restructuring | segment | impairment | charges financial_number | restructuring charges\t Intruder: results operations\n",
      "Topic 36 words: september | september financial_number | ended september | nine | nine months\t Intruder: reporting\n",
      "Topic 37 words: net sales | sales financial_number | brands | currency | brand\t Intruder: receivable net\n",
      "Topic 38 words: third quarter | nine | nine months | financial_number third | million third\t Intruder: cost sales\n",
      "Topic 39 words: march financial_number | ended march | financial_number march | may financial_number | million first\t Intruder: awards\n",
      "Topic 40 words: stock based | gaap net | intangible | intangible assets | compensation expense\t Intruder: total revenue\n",
      "Topic 41 words: continuing | continuing operations | operations financial_number | discontinued | discontinued operations\t Intruder: total revenue\n",
      "Topic 42 words: table | ebitda | properties | facility | national\t Intruder: share amounts\n",
      "Topic 43 words: fiscal | fiscal financial_number | quarter fiscal | fiscal year | financial_number fiscal\t Intruder: financial_number effect\n",
      "Topic 44 words: income loss | net loss | loss per | basic diluted | gaap net\t Intruder: expenses current\n",
      "Topic 45 words: ended december | full year | year ended | financial_number fourth | twelve\t Intruder: financial_number respectively\n",
      "Topic 46 words: pro | forma | pro forma | advertising | media\t Intruder: noncontrolling interests\n",
      "Topic 47 words: financial_number first | april | april financial_number | million first | march financial_number\t Intruder: full year\n",
      "Topic 48 words: free | free cash | flow financial_number | financial_number free | provided operating\t Intruder: exhibit financial_number\n",
      "Topic 49 words: operating profit | profit | segment | billion | financial_number billion\t Intruder: resources\n"
     ]
    }
   ],
   "source": [
    "import random\n",
    "topn = 5\n",
    "\n",
    "vocab = np.array(vec.get_feature_names_out())\n",
    "top_word = final_lda.components_\n",
    "\n",
    "def get_topic_words(topic, top_word, vocab, topn):\n",
    "    top_words_indices = top_word[topic, :].argsort()[-topn:][::-1]\n",
    "    top_words = vocab[top_words_indices]\n",
    "    return top_words\n",
    "\n",
    "# perform the intrusion task\n",
    "num_topics=len(top_word)\n",
    "\n",
    "for top in range(num_topics):\n",
    "    words = get_topic_words(top,top_word,vocab,topn)\n",
    "    intruder = random.choice([w for w in vocab if w not in words])\n",
    "    print(f\"Topic {top} words: {' | '.join(words)}\\t Intruder: {intruder}\")"
   ]
  },
  {
   "cell_type": "markdown",
   "id": "b9dd243f",
   "metadata": {},
   "source": [
    "# Fitting Lasso to evaluate which topics most strongly predict stock returns: \"BHAR0_2\" (or buy-and-hold abnormal returns from days 0 to 2). Note that this column is in percentage points (i.e., -4.5 indicates a return of -4.5%).*"
   ]
  },
  {
   "cell_type": "code",
   "execution_count": 12,
   "id": "9bd42160-f54a-4675-b3da-cef5781dbc18",
   "metadata": {},
   "outputs": [],
   "source": [
    "from sklearn.model_selection import train_test_split\n",
    "\n",
    "Xtopic_train, Xtopic_test, Ytopic_train, Ytopic_test = train_test_split(topics, df['BHAR0_2'],test_size=0.2,random_state=123)"
   ]
  },
  {
   "cell_type": "code",
   "execution_count": 13,
   "id": "3389b5b2-88a2-4da5-b1cb-8a1d7422cca7",
   "metadata": {},
   "outputs": [
    {
     "data": {
      "text/html": [
       "<style>#sk-container-id-1 {color: black;}#sk-container-id-1 pre{padding: 0;}#sk-container-id-1 div.sk-toggleable {background-color: white;}#sk-container-id-1 label.sk-toggleable__label {cursor: pointer;display: block;width: 100%;margin-bottom: 0;padding: 0.3em;box-sizing: border-box;text-align: center;}#sk-container-id-1 label.sk-toggleable__label-arrow:before {content: \"▸\";float: left;margin-right: 0.25em;color: #696969;}#sk-container-id-1 label.sk-toggleable__label-arrow:hover:before {color: black;}#sk-container-id-1 div.sk-estimator:hover label.sk-toggleable__label-arrow:before {color: black;}#sk-container-id-1 div.sk-toggleable__content {max-height: 0;max-width: 0;overflow: hidden;text-align: left;background-color: #f0f8ff;}#sk-container-id-1 div.sk-toggleable__content pre {margin: 0.2em;color: black;border-radius: 0.25em;background-color: #f0f8ff;}#sk-container-id-1 input.sk-toggleable__control:checked~div.sk-toggleable__content {max-height: 200px;max-width: 100%;overflow: auto;}#sk-container-id-1 input.sk-toggleable__control:checked~label.sk-toggleable__label-arrow:before {content: \"▾\";}#sk-container-id-1 div.sk-estimator input.sk-toggleable__control:checked~label.sk-toggleable__label {background-color: #d4ebff;}#sk-container-id-1 div.sk-label input.sk-toggleable__control:checked~label.sk-toggleable__label {background-color: #d4ebff;}#sk-container-id-1 input.sk-hidden--visually {border: 0;clip: rect(1px 1px 1px 1px);clip: rect(1px, 1px, 1px, 1px);height: 1px;margin: -1px;overflow: hidden;padding: 0;position: absolute;width: 1px;}#sk-container-id-1 div.sk-estimator {font-family: monospace;background-color: #f0f8ff;border: 1px dotted black;border-radius: 0.25em;box-sizing: border-box;margin-bottom: 0.5em;}#sk-container-id-1 div.sk-estimator:hover {background-color: #d4ebff;}#sk-container-id-1 div.sk-parallel-item::after {content: \"\";width: 100%;border-bottom: 1px solid gray;flex-grow: 1;}#sk-container-id-1 div.sk-label:hover label.sk-toggleable__label {background-color: #d4ebff;}#sk-container-id-1 div.sk-serial::before {content: \"\";position: absolute;border-left: 1px solid gray;box-sizing: border-box;top: 0;bottom: 0;left: 50%;z-index: 0;}#sk-container-id-1 div.sk-serial {display: flex;flex-direction: column;align-items: center;background-color: white;padding-right: 0.2em;padding-left: 0.2em;position: relative;}#sk-container-id-1 div.sk-item {position: relative;z-index: 1;}#sk-container-id-1 div.sk-parallel {display: flex;align-items: stretch;justify-content: center;background-color: white;position: relative;}#sk-container-id-1 div.sk-item::before, #sk-container-id-1 div.sk-parallel-item::before {content: \"\";position: absolute;border-left: 1px solid gray;box-sizing: border-box;top: 0;bottom: 0;left: 50%;z-index: -1;}#sk-container-id-1 div.sk-parallel-item {display: flex;flex-direction: column;z-index: 1;position: relative;background-color: white;}#sk-container-id-1 div.sk-parallel-item:first-child::after {align-self: flex-end;width: 50%;}#sk-container-id-1 div.sk-parallel-item:last-child::after {align-self: flex-start;width: 50%;}#sk-container-id-1 div.sk-parallel-item:only-child::after {width: 0;}#sk-container-id-1 div.sk-dashed-wrapped {border: 1px dashed gray;margin: 0 0.4em 0.5em 0.4em;box-sizing: border-box;padding-bottom: 0.4em;background-color: white;}#sk-container-id-1 div.sk-label label {font-family: monospace;font-weight: bold;display: inline-block;line-height: 1.2em;}#sk-container-id-1 div.sk-label-container {text-align: center;}#sk-container-id-1 div.sk-container {/* jupyter's `normalize.less` sets `[hidden] { display: none; }` but bootstrap.min.css set `[hidden] { display: none !important; }` so we also need the `!important` here to be able to override the default hidden behavior on the sphinx rendered scikit-learn.org. See: https://github.com/scikit-learn/scikit-learn/issues/21755 */display: inline-block !important;position: relative;}#sk-container-id-1 div.sk-text-repr-fallback {display: none;}</style><div id=\"sk-container-id-1\" class=\"sk-top-container\"><div class=\"sk-text-repr-fallback\"><pre>RandomizedSearchCV(cv=5, estimator=Lasso(), n_iter=50, n_jobs=-1,\n",
       "                   param_distributions={&#x27;alpha&#x27;: array([0.01393242, 0.00572993, 0.00454476, 0.01103078, 0.01439218,\n",
       "       0.0084679 , 0.01961548, 0.01369975, 0.00962383, 0.00784843,\n",
       "       0.00687013, 0.0145837 , 0.00877706, 0.00120296, 0.0079669 ,\n",
       "       0.01476253, 0.00365801, 0.00351728, 0.01063571, 0.01064123,\n",
       "       0.01269168, 0.01699014, 0.01449186, 0....\n",
       "       0.00192329, 0.01770768, 0.01254871, 0.01447109, 0.00033242,\n",
       "       0.01189269, 0.01114014, 0.0031876 , 0.00306988, 0.01391364,\n",
       "       0.00638214, 0.01384249, 0.01109212, 0.00778512, 0.0185034 ,\n",
       "       0.01683498, 0.00715438, 0.00088139, 0.00610231, 0.00796973,\n",
       "       0.01410213, 0.01990722, 0.00712474, 0.01525333, 0.01186761,\n",
       "       0.01383712, 0.00303104, 0.00798354, 0.00482471, 0.00687569]),\n",
       "                                        &#x27;random_state&#x27;: [123]},\n",
       "                   scoring=&#x27;neg_root_mean_squared_error&#x27;)</pre><b>In a Jupyter environment, please rerun this cell to show the HTML representation or trust the notebook. <br />On GitHub, the HTML representation is unable to render, please try loading this page with nbviewer.org.</b></div><div class=\"sk-container\" hidden><div class=\"sk-item sk-dashed-wrapped\"><div class=\"sk-label-container\"><div class=\"sk-label sk-toggleable\"><input class=\"sk-toggleable__control sk-hidden--visually\" id=\"sk-estimator-id-1\" type=\"checkbox\" ><label for=\"sk-estimator-id-1\" class=\"sk-toggleable__label sk-toggleable__label-arrow\">RandomizedSearchCV</label><div class=\"sk-toggleable__content\"><pre>RandomizedSearchCV(cv=5, estimator=Lasso(), n_iter=50, n_jobs=-1,\n",
       "                   param_distributions={&#x27;alpha&#x27;: array([0.01393242, 0.00572993, 0.00454476, 0.01103078, 0.01439218,\n",
       "       0.0084679 , 0.01961548, 0.01369975, 0.00962383, 0.00784843,\n",
       "       0.00687013, 0.0145837 , 0.00877706, 0.00120296, 0.0079669 ,\n",
       "       0.01476253, 0.00365801, 0.00351728, 0.01063571, 0.01064123,\n",
       "       0.01269168, 0.01699014, 0.01449186, 0....\n",
       "       0.00192329, 0.01770768, 0.01254871, 0.01447109, 0.00033242,\n",
       "       0.01189269, 0.01114014, 0.0031876 , 0.00306988, 0.01391364,\n",
       "       0.00638214, 0.01384249, 0.01109212, 0.00778512, 0.0185034 ,\n",
       "       0.01683498, 0.00715438, 0.00088139, 0.00610231, 0.00796973,\n",
       "       0.01410213, 0.01990722, 0.00712474, 0.01525333, 0.01186761,\n",
       "       0.01383712, 0.00303104, 0.00798354, 0.00482471, 0.00687569]),\n",
       "                                        &#x27;random_state&#x27;: [123]},\n",
       "                   scoring=&#x27;neg_root_mean_squared_error&#x27;)</pre></div></div></div><div class=\"sk-parallel\"><div class=\"sk-parallel-item\"><div class=\"sk-item\"><div class=\"sk-label-container\"><div class=\"sk-label sk-toggleable\"><input class=\"sk-toggleable__control sk-hidden--visually\" id=\"sk-estimator-id-2\" type=\"checkbox\" ><label for=\"sk-estimator-id-2\" class=\"sk-toggleable__label sk-toggleable__label-arrow\">estimator: Lasso</label><div class=\"sk-toggleable__content\"><pre>Lasso()</pre></div></div></div><div class=\"sk-serial\"><div class=\"sk-item\"><div class=\"sk-estimator sk-toggleable\"><input class=\"sk-toggleable__control sk-hidden--visually\" id=\"sk-estimator-id-3\" type=\"checkbox\" ><label for=\"sk-estimator-id-3\" class=\"sk-toggleable__label sk-toggleable__label-arrow\">Lasso</label><div class=\"sk-toggleable__content\"><pre>Lasso()</pre></div></div></div></div></div></div></div></div></div></div>"
      ],
      "text/plain": [
       "RandomizedSearchCV(cv=5, estimator=Lasso(), n_iter=50, n_jobs=-1,\n",
       "                   param_distributions={'alpha': array([0.01393242, 0.00572993, 0.00454476, 0.01103078, 0.01439218,\n",
       "       0.0084679 , 0.01961548, 0.01369975, 0.00962383, 0.00784843,\n",
       "       0.00687013, 0.0145837 , 0.00877706, 0.00120296, 0.0079669 ,\n",
       "       0.01476253, 0.00365801, 0.00351728, 0.01063571, 0.01064123,\n",
       "       0.01269168, 0.01699014, 0.01449186, 0....\n",
       "       0.00192329, 0.01770768, 0.01254871, 0.01447109, 0.00033242,\n",
       "       0.01189269, 0.01114014, 0.0031876 , 0.00306988, 0.01391364,\n",
       "       0.00638214, 0.01384249, 0.01109212, 0.00778512, 0.0185034 ,\n",
       "       0.01683498, 0.00715438, 0.00088139, 0.00610231, 0.00796973,\n",
       "       0.01410213, 0.01990722, 0.00712474, 0.01525333, 0.01186761,\n",
       "       0.01383712, 0.00303104, 0.00798354, 0.00482471, 0.00687569]),\n",
       "                                        'random_state': [123]},\n",
       "                   scoring='neg_root_mean_squared_error')"
      ]
     },
     "execution_count": 13,
     "metadata": {},
     "output_type": "execute_result"
    }
   ],
   "source": [
    "from sklearn.model_selection import RandomizedSearchCV\n",
    "from sklearn.linear_model import Lasso\n",
    "import numpy as np\n",
    "\n",
    "np.random.seed(123)\n",
    "\n",
    "#the optimum out-of-sample value for alpha\n",
    "param_grid = {'random_state': [123],\n",
    "    'alpha': np.random.uniform(0.00001, 0.02, 100) #100 random values for alpha between 0.00001 and 0.02.\n",
    "}\n",
    "\n",
    "lasso = Lasso()\n",
    "\n",
    "rus = RandomizedSearchCV(\n",
    "    lasso,\n",
    "    param_grid,\n",
    "    n_iter=50, #run 50 times\n",
    "    scoring='neg_root_mean_squared_error',\n",
    "    cv=5,   #use 5-fold cross-validation\n",
    "    n_jobs=-1,\n",
    ")\n",
    "\n",
    "rus.fit(Xtopic_train, Ytopic_train)\n"
   ]
  },
  {
   "cell_type": "markdown",
   "id": "53f270c9",
   "metadata": {},
   "source": [
    "**Plot neg_root_mean_squared_error vs. alpha**"
   ]
  },
  {
   "cell_type": "code",
   "execution_count": 14,
   "id": "7bd79dbf-3bee-41a3-8a83-828cb61d83c0",
   "metadata": {},
   "outputs": [
    {
     "data": {
      "text/plain": [
       "masked_array(data=[0.010641233466066352, 0.011722871685718636,\n",
       "                   0.018883758763895555, 0.0068756857208260155,\n",
       "                   0.012691675161440909, 0.001851177749502053,\n",
       "                   0.008777059171145692, 0.017510382267485546,\n",
       "                   0.014491861943964098, 0.01445164321757873],\n",
       "             mask=[False, False, False, False, False, False, False, False,\n",
       "                   False, False],\n",
       "       fill_value='?',\n",
       "            dtype=object)"
      ]
     },
     "execution_count": 14,
     "metadata": {},
     "output_type": "execute_result"
    }
   ],
   "source": [
    "rus.cv_results_['param_alpha'][:10:]"
   ]
  },
  {
   "cell_type": "code",
   "execution_count": 15,
   "id": "d5ac74d1",
   "metadata": {},
   "outputs": [
    {
     "data": {
      "text/plain": [
       "dict_keys(['mean_fit_time', 'std_fit_time', 'mean_score_time', 'std_score_time', 'param_random_state', 'param_alpha', 'params', 'split0_test_score', 'split1_test_score', 'split2_test_score', 'split3_test_score', 'split4_test_score', 'mean_test_score', 'std_test_score', 'rank_test_score'])"
      ]
     },
     "execution_count": 15,
     "metadata": {},
     "output_type": "execute_result"
    }
   ],
   "source": [
    "rus.cv_results_.keys()"
   ]
  },
  {
   "cell_type": "code",
   "execution_count": 16,
   "id": "8bc35c43",
   "metadata": {},
   "outputs": [
    {
     "data": {
      "image/png": "[encoded data removed]",
      "text/plain": [
       "<Figure size 800x600 with 1 Axes>"
      ]
     },
     "metadata": {},
     "output_type": "display_data"
    }
   ],
   "source": [
    "import matplotlib.pyplot as plt\n",
    "\n",
    "alphas = rus.cv_results_['param_alpha']\n",
    "neg_rmse = rus.cv_results_['mean_test_score']\n",
    "\n",
    "# Creating a scatter plot\n",
    "plt.figure(figsize=(8, 6))\n",
    "plt.scatter(alphas, neg_rmse, s=50, alpha=0.5)\n",
    "plt.title('Validation neg_root_mean_squared_error vs. Alpha')\n",
    "plt.xlabel('Alpha')\n",
    "plt.ylabel('Validation neg_root_mean_squared_error')\n",
    "plt.xscale('log') \n",
    "plt.grid(True)\n",
    "plt.show()"
   ]
  },
  {
   "cell_type": "code",
   "execution_count": 17,
   "id": "f9a02489",
   "metadata": {},
   "outputs": [
    {
     "name": "stdout",
     "output_type": "stream",
     "text": [
      "Optimum value for alpha: 0.00608937457265341\n"
     ]
    }
   ],
   "source": [
    "optimum_alpha=rus.best_params_['alpha']\n",
    "\n",
    "print(\"Optimum value for alpha:\", optimum_alpha)\n"
   ]
  },
  {
   "cell_type": "markdown",
   "id": "609579e4",
   "metadata": {},
   "source": [
    "**Lasso results**"
   ]
  },
  {
   "cell_type": "code",
   "execution_count": 18,
   "id": "407ef1b1-345d-4d6f-a060-2714c1081ad7",
   "metadata": {},
   "outputs": [
    {
     "name": "stdout",
     "output_type": "stream",
     "text": [
      "number of coefficients not equal to zero is 9\n"
     ]
    }
   ],
   "source": [
    "lasso = Lasso(alpha=optimum_alpha,  # rus.cv_results_['param_alpha']\n",
    "              random_state=123)\n",
    "lasso.fit(Xtopic_train, Ytopic_train)\n",
    "\n",
    "nonzero_coef=len([c for c in lasso.coef_ if c!=0])\n",
    "   \n",
    "print(f\"number of coefficients not equal to zero is {nonzero_coef}\")\n"
   ]
  },
  {
   "cell_type": "markdown",
   "id": "5aee0e82-700d-486c-94f7-88702b3d91be",
   "metadata": {},
   "source": [
    "**The most positive and most negative topics.**"
   ]
  },
  {
   "cell_type": "code",
   "execution_count": 19,
   "id": "d59017dc-0945-4abc-b09b-73aafa697d22",
   "metadata": {},
   "outputs": [
    {
     "name": "stdout",
     "output_type": "stream",
     "text": [
      "The most positive coefficient corresponds to topic 3 and has a value 2.8664809610332798.\n",
      "The most negative coefficient corresponds to topic 44 and has a value -5.123652454979049.\n"
     ]
    }
   ],
   "source": [
    "most_pos = np.argmax(lasso.coef_)\n",
    "most_neg = np.argmin(lasso.coef_)\n",
    "\n",
    "print(f\"The most positive coefficient corresponds to topic {most_pos} and has a value {lasso.coef_[most_pos]}.\")\n",
    "print(f\"The most negative coefficient corresponds to topic {most_neg} and has a value {lasso.coef_[most_neg]}.\")"
   ]
  },
  {
   "cell_type": "markdown",
   "id": "62c366bc-ff70-4a09-8a70-b771671528fe",
   "metadata": {},
   "source": [
    "**Top 5 words corresponding to the most positive and negative topics.**"
   ]
  },
  {
   "cell_type": "code",
   "execution_count": 20,
   "id": "aafd1005",
   "metadata": {},
   "outputs": [],
   "source": [
    "topn=5\n",
    "vocab = np.array(vec.get_feature_names_out())"
   ]
  },
  {
   "cell_type": "code",
   "execution_count": 21,
   "id": "02fe9ba4",
   "metadata": {},
   "outputs": [
    {
     "name": "stdout",
     "output_type": "stream",
     "text": [
      "Topic 3 words: eps|diluted earnings|diluted eps|acquisition related|gaap operating\n",
      "Topic 44 words: income loss|net loss|loss per|basic diluted|gaap net\n"
     ]
    }
   ],
   "source": [
    "# Positive words:\n",
    "words = get_topic_words(most_pos, top_word, vocab, topn=5)\n",
    "print(f\"Topic {most_pos} words: {'|'.join(words)}\")\n",
    "\n",
    "# Negative words:\n",
    "words = get_topic_words(most_neg, top_word, vocab, topn=5)\n",
    "print(f\"Topic {most_neg} words: {'|'.join(words)}\")"
   ]
  },
  {
   "cell_type": "markdown",
   "id": "6f01fbd5",
   "metadata": {},
   "source": [
    "**The words do seem to be intuitive, especially the words for positive topic. Most of the positive words do have strong association with stock returns. The last two negative words 'basic diluted' and 'gaap net' do not seem very intutive.**"
   ]
  },
  {
   "cell_type": "markdown",
   "id": "614e840b",
   "metadata": {},
   "source": [
    "# Predict Large Positive Returns Using a Classifier"
   ]
  },
  {
   "cell_type": "code",
   "execution_count": 24,
   "id": "ea1a9375-2dc2-44bd-b4d2-e67f63190396",
   "metadata": {},
   "outputs": [],
   "source": [
    "YLR = (df['BHAR0_2']>5).astype(int) #reducing dataset \n",
    "train_Xdtm, test_Xdtm, train_Xtopic, test_Xtopic, train_YLR, test_YLR = train_test_split(np.asarray(dtm.todense()),topics,YLR,train_size=0.80,random_state=123)"
   ]
  },
  {
   "cell_type": "code",
   "execution_count": 23,
   "id": "38866360",
   "metadata": {},
   "outputs": [
    {
     "name": "stdout",
     "output_type": "stream",
     "text": [
      "Class 0: Count - 7584\n",
      "Class 1: Count - 2416\n"
     ]
    }
   ],
   "source": [
    "# Get unique classes and their counts\n",
    "unique_classes, counts = np.unique(train_YLR, return_counts=True)\n",
    "\n",
    "# Display counts for each class\n",
    "for class_label, count in zip(unique_classes, counts):\n",
    "    print(f\"Class {class_label}: Count - {count}\")"
   ]
  },
  {
   "cell_type": "markdown",
   "id": "173dce66-84a3-47d8-a157-da292214a83b",
   "metadata": {},
   "source": [
    "**Training Random Forest**"
   ]
  },
  {
   "cell_type": "code",
   "execution_count": 25,
   "id": "d3d925fb-e3a7-4062-b828-104a2b542b37",
   "metadata": {},
   "outputs": [
    {
     "name": "stdout",
     "output_type": "stream",
     "text": [
      "Running Random Forest model with 50 estimators and a max of 100% observations per tree.\n",
      "Classification Report for this model using validation data:\n",
      "\n",
      "\n",
      "              precision    recall  f1-score   support\n",
      "\n",
      "           0       0.76      1.00      0.86      1904\n",
      "           1       0.00      0.00      0.00       596\n",
      "\n",
      "    accuracy                           0.76      2500\n",
      "   macro avg       0.38      0.50      0.43      2500\n",
      "weighted avg       0.58      0.76      0.66      2500\n",
      "\n",
      "Classification Report for this model using training data:\n",
      "\n",
      "\n",
      "              precision    recall  f1-score   support\n",
      "\n",
      "           0       0.76      1.00      0.86      7584\n",
      "           1       0.00      0.00      0.00      2416\n",
      "\n",
      "    accuracy                           0.76     10000\n",
      "   macro avg       0.38      0.50      0.43     10000\n",
      "weighted avg       0.58      0.76      0.65     10000\n",
      "\n",
      "------------------------------------------------------------\n",
      "Running Random Forest model with 50 estimators and a max of 75.0% observations per tree.\n"
     ]
    },
    {
     "name": "stderr",
     "output_type": "stream",
     "text": [
      "C:\\Users\\stuti\\.conda\\envs\\unstruct\\Lib\\site-packages\\sklearn\\metrics\\_classification.py:1471: UndefinedMetricWarning: Precision and F-score are ill-defined and being set to 0.0 in labels with no predicted samples. Use `zero_division` parameter to control this behavior.\n",
      "  _warn_prf(average, modifier, msg_start, len(result))\n",
      "C:\\Users\\stuti\\.conda\\envs\\unstruct\\Lib\\site-packages\\sklearn\\metrics\\_classification.py:1471: UndefinedMetricWarning: Precision and F-score are ill-defined and being set to 0.0 in labels with no predicted samples. Use `zero_division` parameter to control this behavior.\n",
      "  _warn_prf(average, modifier, msg_start, len(result))\n",
      "C:\\Users\\stuti\\.conda\\envs\\unstruct\\Lib\\site-packages\\sklearn\\metrics\\_classification.py:1471: UndefinedMetricWarning: Precision and F-score are ill-defined and being set to 0.0 in labels with no predicted samples. Use `zero_division` parameter to control this behavior.\n",
      "  _warn_prf(average, modifier, msg_start, len(result))\n",
      "C:\\Users\\stuti\\.conda\\envs\\unstruct\\Lib\\site-packages\\sklearn\\metrics\\_classification.py:1471: UndefinedMetricWarning: Precision and F-score are ill-defined and being set to 0.0 in labels with no predicted samples. Use `zero_division` parameter to control this behavior.\n",
      "  _warn_prf(average, modifier, msg_start, len(result))\n",
      "C:\\Users\\stuti\\.conda\\envs\\unstruct\\Lib\\site-packages\\sklearn\\metrics\\_classification.py:1471: UndefinedMetricWarning: Precision and F-score are ill-defined and being set to 0.0 in labels with no predicted samples. Use `zero_division` parameter to control this behavior.\n",
      "  _warn_prf(average, modifier, msg_start, len(result))\n",
      "C:\\Users\\stuti\\.conda\\envs\\unstruct\\Lib\\site-packages\\sklearn\\metrics\\_classification.py:1471: UndefinedMetricWarning: Precision and F-score are ill-defined and being set to 0.0 in labels with no predicted samples. Use `zero_division` parameter to control this behavior.\n",
      "  _warn_prf(average, modifier, msg_start, len(result))\n"
     ]
    },
    {
     "name": "stdout",
     "output_type": "stream",
     "text": [
      "Classification Report for this model using validation data:\n",
      "\n",
      "\n",
      "              precision    recall  f1-score   support\n",
      "\n",
      "           0       0.76      1.00      0.87      1904\n",
      "           1       0.75      0.01      0.02       596\n",
      "\n",
      "    accuracy                           0.76      2500\n",
      "   macro avg       0.76      0.50      0.44      2500\n",
      "weighted avg       0.76      0.76      0.66      2500\n",
      "\n",
      "Classification Report for this model using training data:\n",
      "\n",
      "\n",
      "              precision    recall  f1-score   support\n",
      "\n",
      "           0       0.99      1.00      0.99      7584\n",
      "           1       1.00      0.97      0.98      2416\n",
      "\n",
      "    accuracy                           0.99     10000\n",
      "   macro avg       0.99      0.98      0.99     10000\n",
      "weighted avg       0.99      0.99      0.99     10000\n",
      "\n",
      "------------------------------------------------------------\n",
      "Running Random Forest model with 50 estimators and a max of 25.0% observations per tree.\n",
      "Classification Report for this model using validation data:\n",
      "\n",
      "\n",
      "              precision    recall  f1-score   support\n",
      "\n",
      "           0       0.76      1.00      0.86      1904\n",
      "           1       0.00      0.00      0.00       596\n",
      "\n",
      "    accuracy                           0.76      2500\n",
      "   macro avg       0.38      0.50      0.43      2500\n",
      "weighted avg       0.58      0.76      0.66      2500\n",
      "\n",
      "Classification Report for this model using training data:\n",
      "\n",
      "\n",
      "              precision    recall  f1-score   support\n",
      "\n",
      "           0       0.78      1.00      0.88      7584\n",
      "           1       1.00      0.11      0.20      2416\n",
      "\n",
      "    accuracy                           0.79     10000\n",
      "   macro avg       0.89      0.56      0.54     10000\n",
      "weighted avg       0.83      0.79      0.71     10000\n",
      "\n",
      "------------------------------------------------------------\n",
      "Running Random Forest model with 100 estimators and a max of 100% observations per tree.\n",
      "Classification Report for this model using validation data:\n",
      "\n",
      "\n",
      "              precision    recall  f1-score   support\n",
      "\n",
      "           0       0.76      1.00      0.86      1904\n",
      "           1       0.00      0.00      0.00       596\n",
      "\n",
      "    accuracy                           0.76      2500\n",
      "   macro avg       0.38      0.50      0.43      2500\n",
      "weighted avg       0.58      0.76      0.66      2500\n",
      "\n",
      "Classification Report for this model using training data:\n",
      "\n",
      "\n",
      "              precision    recall  f1-score   support\n",
      "\n",
      "           0       0.76      1.00      0.86      7584\n",
      "           1       0.00      0.00      0.00      2416\n",
      "\n",
      "    accuracy                           0.76     10000\n",
      "   macro avg       0.38      0.50      0.43     10000\n",
      "weighted avg       0.58      0.76      0.65     10000\n",
      "\n",
      "------------------------------------------------------------\n",
      "Running Random Forest model with 100 estimators and a max of 75.0% observations per tree.\n"
     ]
    },
    {
     "name": "stderr",
     "output_type": "stream",
     "text": [
      "C:\\Users\\stuti\\.conda\\envs\\unstruct\\Lib\\site-packages\\sklearn\\metrics\\_classification.py:1471: UndefinedMetricWarning: Precision and F-score are ill-defined and being set to 0.0 in labels with no predicted samples. Use `zero_division` parameter to control this behavior.\n",
      "  _warn_prf(average, modifier, msg_start, len(result))\n",
      "C:\\Users\\stuti\\.conda\\envs\\unstruct\\Lib\\site-packages\\sklearn\\metrics\\_classification.py:1471: UndefinedMetricWarning: Precision and F-score are ill-defined and being set to 0.0 in labels with no predicted samples. Use `zero_division` parameter to control this behavior.\n",
      "  _warn_prf(average, modifier, msg_start, len(result))\n",
      "C:\\Users\\stuti\\.conda\\envs\\unstruct\\Lib\\site-packages\\sklearn\\metrics\\_classification.py:1471: UndefinedMetricWarning: Precision and F-score are ill-defined and being set to 0.0 in labels with no predicted samples. Use `zero_division` parameter to control this behavior.\n",
      "  _warn_prf(average, modifier, msg_start, len(result))\n",
      "C:\\Users\\stuti\\.conda\\envs\\unstruct\\Lib\\site-packages\\sklearn\\metrics\\_classification.py:1471: UndefinedMetricWarning: Precision and F-score are ill-defined and being set to 0.0 in labels with no predicted samples. Use `zero_division` parameter to control this behavior.\n",
      "  _warn_prf(average, modifier, msg_start, len(result))\n",
      "C:\\Users\\stuti\\.conda\\envs\\unstruct\\Lib\\site-packages\\sklearn\\metrics\\_classification.py:1471: UndefinedMetricWarning: Precision and F-score are ill-defined and being set to 0.0 in labels with no predicted samples. Use `zero_division` parameter to control this behavior.\n",
      "  _warn_prf(average, modifier, msg_start, len(result))\n",
      "C:\\Users\\stuti\\.conda\\envs\\unstruct\\Lib\\site-packages\\sklearn\\metrics\\_classification.py:1471: UndefinedMetricWarning: Precision and F-score are ill-defined and being set to 0.0 in labels with no predicted samples. Use `zero_division` parameter to control this behavior.\n",
      "  _warn_prf(average, modifier, msg_start, len(result))\n"
     ]
    },
    {
     "name": "stdout",
     "output_type": "stream",
     "text": [
      "Classification Report for this model using validation data:\n",
      "\n",
      "\n",
      "              precision    recall  f1-score   support\n",
      "\n",
      "           0       0.76      1.00      0.86      1904\n",
      "           1       0.67      0.01      0.01       596\n",
      "\n",
      "    accuracy                           0.76      2500\n",
      "   macro avg       0.71      0.50      0.44      2500\n",
      "weighted avg       0.74      0.76      0.66      2500\n",
      "\n",
      "Classification Report for this model using training data:\n",
      "\n",
      "\n",
      "              precision    recall  f1-score   support\n",
      "\n",
      "           0       1.00      1.00      1.00      7584\n",
      "           1       1.00      0.99      1.00      2416\n",
      "\n",
      "    accuracy                           1.00     10000\n",
      "   macro avg       1.00      1.00      1.00     10000\n",
      "weighted avg       1.00      1.00      1.00     10000\n",
      "\n",
      "------------------------------------------------------------\n",
      "Running Random Forest model with 100 estimators and a max of 25.0% observations per tree.\n",
      "Classification Report for this model using validation data:\n",
      "\n",
      "\n",
      "              precision    recall  f1-score   support\n",
      "\n",
      "           0       0.76      1.00      0.86      1904\n",
      "           1       0.00      0.00      0.00       596\n",
      "\n",
      "    accuracy                           0.76      2500\n",
      "   macro avg       0.38      0.50      0.43      2500\n",
      "weighted avg       0.58      0.76      0.66      2500\n",
      "\n",
      "Classification Report for this model using training data:\n",
      "\n",
      "\n",
      "              precision    recall  f1-score   support\n",
      "\n",
      "           0       0.77      1.00      0.87      7584\n",
      "           1       1.00      0.06      0.12      2416\n",
      "\n",
      "    accuracy                           0.77     10000\n",
      "   macro avg       0.89      0.53      0.50     10000\n",
      "weighted avg       0.83      0.77      0.69     10000\n",
      "\n",
      "------------------------------------------------------------\n",
      "Running Random Forest model with 250 estimators and a max of 100% observations per tree.\n"
     ]
    },
    {
     "name": "stderr",
     "output_type": "stream",
     "text": [
      "C:\\Users\\stuti\\.conda\\envs\\unstruct\\Lib\\site-packages\\sklearn\\metrics\\_classification.py:1471: UndefinedMetricWarning: Precision and F-score are ill-defined and being set to 0.0 in labels with no predicted samples. Use `zero_division` parameter to control this behavior.\n",
      "  _warn_prf(average, modifier, msg_start, len(result))\n",
      "C:\\Users\\stuti\\.conda\\envs\\unstruct\\Lib\\site-packages\\sklearn\\metrics\\_classification.py:1471: UndefinedMetricWarning: Precision and F-score are ill-defined and being set to 0.0 in labels with no predicted samples. Use `zero_division` parameter to control this behavior.\n",
      "  _warn_prf(average, modifier, msg_start, len(result))\n",
      "C:\\Users\\stuti\\.conda\\envs\\unstruct\\Lib\\site-packages\\sklearn\\metrics\\_classification.py:1471: UndefinedMetricWarning: Precision and F-score are ill-defined and being set to 0.0 in labels with no predicted samples. Use `zero_division` parameter to control this behavior.\n",
      "  _warn_prf(average, modifier, msg_start, len(result))\n"
     ]
    },
    {
     "name": "stdout",
     "output_type": "stream",
     "text": [
      "Classification Report for this model using validation data:\n",
      "\n",
      "\n",
      "              precision    recall  f1-score   support\n",
      "\n",
      "           0       0.76      1.00      0.86      1904\n",
      "           1       0.00      0.00      0.00       596\n",
      "\n",
      "    accuracy                           0.76      2500\n",
      "   macro avg       0.38      0.50      0.43      2500\n",
      "weighted avg       0.58      0.76      0.66      2500\n",
      "\n",
      "Classification Report for this model using training data:\n",
      "\n",
      "\n",
      "              precision    recall  f1-score   support\n",
      "\n",
      "           0       0.76      1.00      0.86      7584\n",
      "           1       0.00      0.00      0.00      2416\n",
      "\n",
      "    accuracy                           0.76     10000\n",
      "   macro avg       0.38      0.50      0.43     10000\n",
      "weighted avg       0.58      0.76      0.65     10000\n",
      "\n",
      "------------------------------------------------------------\n",
      "Running Random Forest model with 250 estimators and a max of 75.0% observations per tree.\n"
     ]
    },
    {
     "name": "stderr",
     "output_type": "stream",
     "text": [
      "C:\\Users\\stuti\\.conda\\envs\\unstruct\\Lib\\site-packages\\sklearn\\metrics\\_classification.py:1471: UndefinedMetricWarning: Precision and F-score are ill-defined and being set to 0.0 in labels with no predicted samples. Use `zero_division` parameter to control this behavior.\n",
      "  _warn_prf(average, modifier, msg_start, len(result))\n",
      "C:\\Users\\stuti\\.conda\\envs\\unstruct\\Lib\\site-packages\\sklearn\\metrics\\_classification.py:1471: UndefinedMetricWarning: Precision and F-score are ill-defined and being set to 0.0 in labels with no predicted samples. Use `zero_division` parameter to control this behavior.\n",
      "  _warn_prf(average, modifier, msg_start, len(result))\n",
      "C:\\Users\\stuti\\.conda\\envs\\unstruct\\Lib\\site-packages\\sklearn\\metrics\\_classification.py:1471: UndefinedMetricWarning: Precision and F-score are ill-defined and being set to 0.0 in labels with no predicted samples. Use `zero_division` parameter to control this behavior.\n",
      "  _warn_prf(average, modifier, msg_start, len(result))\n",
      "C:\\Users\\stuti\\.conda\\envs\\unstruct\\Lib\\site-packages\\sklearn\\metrics\\_classification.py:1471: UndefinedMetricWarning: Precision and F-score are ill-defined and being set to 0.0 in labels with no predicted samples. Use `zero_division` parameter to control this behavior.\n",
      "  _warn_prf(average, modifier, msg_start, len(result))\n",
      "C:\\Users\\stuti\\.conda\\envs\\unstruct\\Lib\\site-packages\\sklearn\\metrics\\_classification.py:1471: UndefinedMetricWarning: Precision and F-score are ill-defined and being set to 0.0 in labels with no predicted samples. Use `zero_division` parameter to control this behavior.\n",
      "  _warn_prf(average, modifier, msg_start, len(result))\n",
      "C:\\Users\\stuti\\.conda\\envs\\unstruct\\Lib\\site-packages\\sklearn\\metrics\\_classification.py:1471: UndefinedMetricWarning: Precision and F-score are ill-defined and being set to 0.0 in labels with no predicted samples. Use `zero_division` parameter to control this behavior.\n",
      "  _warn_prf(average, modifier, msg_start, len(result))\n"
     ]
    },
    {
     "name": "stdout",
     "output_type": "stream",
     "text": [
      "Classification Report for this model using validation data:\n",
      "\n",
      "\n",
      "              precision    recall  f1-score   support\n",
      "\n",
      "           0       0.76      1.00      0.87      1904\n",
      "           1       0.71      0.01      0.02       596\n",
      "\n",
      "    accuracy                           0.76      2500\n",
      "   macro avg       0.74      0.50      0.44      2500\n",
      "weighted avg       0.75      0.76      0.66      2500\n",
      "\n",
      "Classification Report for this model using training data:\n",
      "\n",
      "\n",
      "              precision    recall  f1-score   support\n",
      "\n",
      "           0       1.00      1.00      1.00      7584\n",
      "           1       1.00      1.00      1.00      2416\n",
      "\n",
      "    accuracy                           1.00     10000\n",
      "   macro avg       1.00      1.00      1.00     10000\n",
      "weighted avg       1.00      1.00      1.00     10000\n",
      "\n",
      "------------------------------------------------------------\n",
      "Running Random Forest model with 250 estimators and a max of 25.0% observations per tree.\n",
      "Classification Report for this model using validation data:\n",
      "\n",
      "\n",
      "              precision    recall  f1-score   support\n",
      "\n",
      "           0       0.76      1.00      0.86      1904\n",
      "           1       0.00      0.00      0.00       596\n",
      "\n",
      "    accuracy                           0.76      2500\n",
      "   macro avg       0.38      0.50      0.43      2500\n",
      "weighted avg       0.58      0.76      0.66      2500\n",
      "\n",
      "Classification Report for this model using training data:\n",
      "\n",
      "\n",
      "              precision    recall  f1-score   support\n",
      "\n",
      "           0       0.77      1.00      0.87      7584\n",
      "           1       1.00      0.04      0.08      2416\n",
      "\n",
      "    accuracy                           0.77     10000\n",
      "   macro avg       0.88      0.52      0.47     10000\n",
      "weighted avg       0.82      0.77      0.68     10000\n",
      "\n",
      "------------------------------------------------------------\n"
     ]
    },
    {
     "name": "stderr",
     "output_type": "stream",
     "text": [
      "C:\\Users\\stuti\\.conda\\envs\\unstruct\\Lib\\site-packages\\sklearn\\metrics\\_classification.py:1471: UndefinedMetricWarning: Precision and F-score are ill-defined and being set to 0.0 in labels with no predicted samples. Use `zero_division` parameter to control this behavior.\n",
      "  _warn_prf(average, modifier, msg_start, len(result))\n",
      "C:\\Users\\stuti\\.conda\\envs\\unstruct\\Lib\\site-packages\\sklearn\\metrics\\_classification.py:1471: UndefinedMetricWarning: Precision and F-score are ill-defined and being set to 0.0 in labels with no predicted samples. Use `zero_division` parameter to control this behavior.\n",
      "  _warn_prf(average, modifier, msg_start, len(result))\n",
      "C:\\Users\\stuti\\.conda\\envs\\unstruct\\Lib\\site-packages\\sklearn\\metrics\\_classification.py:1471: UndefinedMetricWarning: Precision and F-score are ill-defined and being set to 0.0 in labels with no predicted samples. Use `zero_division` parameter to control this behavior.\n",
      "  _warn_prf(average, modifier, msg_start, len(result))\n"
     ]
    }
   ],
   "source": [
    "# Train and evaluate 1st model\n",
    "\n",
    "from sklearn.ensemble import RandomForestClassifier as RFC\n",
    "from sklearn.metrics import confusion_matrix, classification_report\n",
    "\n",
    "n_estimators = [50,100,250]\n",
    "max_samples = [1,0.75,0.25] #%\n",
    "\n",
    "for n in n_estimators:\n",
    "    for m in max_samples:\n",
    "        rf = RFC(n_estimators=n, max_samples=m, n_jobs = -1, random_state=123, class_weight='balanced')\n",
    "        print(f\"Running Random Forest model with {n} estimators and a max of {round(m*100,2)}% observations per tree.\")\n",
    "        rf.fit(train_Xtopic,train_YLR)\n",
    "        print(f\"Classification Report for this model using validation data:\\n\\n\")\n",
    "        print(classification_report(test_YLR,rf.predict(test_Xtopic)))\n",
    "        print(f\"Classification Report for this model using training data:\\n\\n\")\n",
    "        print(classification_report(train_YLR,rf.predict(train_Xtopic)))\n",
    "        print(\"------------------------------------------------------------\")"
   ]
  },
  {
   "cell_type": "markdown",
   "id": "622a2f99",
   "metadata": {},
   "source": [
    "**Training Light Gradient Boosting.**"
   ]
  },
  {
   "cell_type": "code",
   "execution_count": 26,
   "id": "5d10d799",
   "metadata": {},
   "outputs": [
    {
     "name": "stdout",
     "output_type": "stream",
     "text": [
      "[LightGBM] [Info] Number of positive: 2416, number of negative: 7584\n",
      "[LightGBM] [Info] Auto-choosing col-wise multi-threading, the overhead of testing was 0.003384 seconds.\n",
      "You can set `force_col_wise=true` to remove the overhead.\n",
      "[LightGBM] [Info] Total Bins 12750\n",
      "[LightGBM] [Info] Number of data points in the train set: 10000, number of used features: 50\n",
      "[LightGBM] [Info] [binary:BoostFromScore]: pavg=0.241600 -> initscore=-1.143927\n",
      "[LightGBM] [Info] Start training from score -1.143927\n",
      "Classification Report for this model using validation data:\n",
      "\n",
      "\n",
      "              precision    recall  f1-score   support\n",
      "\n",
      "           0       0.76      0.99      0.86      1904\n",
      "           1       0.45      0.03      0.05       596\n",
      "\n",
      "    accuracy                           0.76      2500\n",
      "   macro avg       0.61      0.51      0.46      2500\n",
      "weighted avg       0.69      0.76      0.67      2500\n",
      "\n",
      "Classification Report for this model using training data:\n",
      "\n",
      "\n",
      "              precision    recall  f1-score   support\n",
      "\n",
      "           0       0.83      1.00      0.91      7584\n",
      "           1       1.00      0.34      0.51      2416\n",
      "\n",
      "    accuracy                           0.84     10000\n",
      "   macro avg       0.91      0.67      0.71     10000\n",
      "weighted avg       0.87      0.84      0.81     10000\n",
      "\n",
      "------------------------------------------------------------\n"
     ]
    }
   ],
   "source": [
    "# Train and evaluate 2nd model\n",
    "from lightgbm import LGBMClassifier as LGBM\n",
    "\n",
    "lgbm = LGBM(reg_alpha=0.01,random_state=123,n_jobs=-1)\n",
    "lgbm.fit(train_Xtopic,train_YLR)\n",
    "\n",
    "print(f\"Classification Report for this model using validation data:\\n\\n\")\n",
    "print(classification_report(test_YLR,lgbm.predict(test_Xtopic)))\n",
    "print(f\"Classification Report for this model using training data:\\n\\n\")\n",
    "print(classification_report(train_YLR,lgbm.predict(train_Xtopic)))\n",
    "print(\"------------------------------------------------------------\")"
   ]
  },
  {
   "cell_type": "markdown",
   "id": "d053c95e",
   "metadata": {},
   "source": [
    "**Evaluating Classifiers: The percent of accuracy for both models, Random Forest and Light GBM, are high using both the training dataset and validation dataset. However the models are all biased based on the precision, recall and f1-score. The models are able to predict class 1 well but they are doing a very poor job of predicting the minority class 0. It makes sense as about 75% of data belonged to class 1. We could try to tune some hyper parameters below to see if that improves the biaseness.**"
   ]
  },
  {
   "cell_type": "markdown",
   "id": "8a443105-c9da-44df-9c62-bf68c8eb00b6",
   "metadata": {},
   "source": [
    "**Model Tuning**\n"
   ]
  },
  {
   "cell_type": "code",
   "execution_count": 29,
   "id": "f13ce671-7a6e-48e0-9727-612d2f6ddd9d",
   "metadata": {},
   "outputs": [],
   "source": [
    "\n",
    "np.random.seed(123)\n",
    "maj_weight = np.random.uniform(0,0.5,100) # 100 random numbers between 0 and 0.5\n",
    "class_weights = [{0: 1-k, 1:k} for k in maj_weight] #0 will be whatever value from maj_weight subtracted from 1\n",
    "class_weights.append('balanced') # adds \"balanced\" as an option\n",
    "class_weights.append(None) # adds no weighting as an option..default for most procedures\n",
    "class_weights[-10:]\n",
    "\n",
    "rf_params = {'n_estimators':[10,25,50,100,200],\n",
    "             'criterion':['gini','entropy','log_loss'],\n",
    "             'max_depth':[None,10, 20, 50, 100],\n",
    "             'min_samples_split':[2,5,10], # required to split\n",
    "             'max_features':[None,'sqrt','log2'],\n",
    "             'max_samples':[None,0.10,0.50,0.75],\n",
    "             'class_weight':class_weights,\n",
    "             'random_state':[123]\n",
    "            }\n",
    "\n",
    "lgbm_params = {'boosting_type':['gbdt', 'dart', 'goss'],\n",
    "               'num_leaves':[10,20,30,40,50],\n",
    "               'max_depth':[-1, 10, 20, 50, 100],\n",
    "               'learning_rate':[0.01,0.1,0.2,0.5], # note this is a very important parameter, as it controls how much \"feedback\" the model has. You can also define a function to make it adaptive\n",
    "               'n_estimators':[25,50,75,100,200],\n",
    "               'class_weight':class_weights,\n",
    "               'random_state':[123]\n",
    "              }"
   ]
  },
  {
   "cell_type": "code",
   "execution_count": 30,
   "id": "674832e7",
   "metadata": {},
   "outputs": [
    {
     "name": "stdout",
     "output_type": "stream",
     "text": [
      "Classification Report with hold-out sample for best fit of this model:...\n",
      "\n",
      "<class 'sklearn.ensemble._forest.RandomForestClassifier'>\n",
      "              precision    recall  f1-score   support\n",
      "\n",
      "           0       0.76      0.96      0.85      1904\n",
      "           1       0.20      0.03      0.05       596\n",
      "\n",
      "    accuracy                           0.74      2500\n",
      "   macro avg       0.48      0.50      0.45      2500\n",
      "weighted avg       0.63      0.74      0.66      2500\n",
      "\n",
      "------------------------------------------------------\n",
      "[LightGBM] [Warning] Found boosting=goss. For backwards compatibility reasons, LightGBM interprets this as boosting=gbdt, data_sample_strategy=goss.To suppress this warning, set data_sample_strategy=goss instead.\n",
      "[LightGBM] [Warning] Found boosting=goss. For backwards compatibility reasons, LightGBM interprets this as boosting=gbdt, data_sample_strategy=goss.To suppress this warning, set data_sample_strategy=goss instead.\n",
      "[LightGBM] [Info] Number of positive: 2416, number of negative: 7584\n",
      "[LightGBM] [Info] Auto-choosing col-wise multi-threading, the overhead of testing was 0.005161 seconds.\n",
      "You can set `force_col_wise=true` to remove the overhead.\n",
      "[LightGBM] [Info] Total Bins 12750\n",
      "[LightGBM] [Info] Number of data points in the train set: 10000, number of used features: 50\n",
      "[LightGBM] [Info] Using GOSS\n",
      "[LightGBM] [Info] [binary:BoostFromScore]: pavg=0.164095 -> initscore=-1.628072\n",
      "[LightGBM] [Info] Start training from score -1.628072\n",
      "Classification Report with hold-out sample for best fit of this model:...\n",
      "\n",
      "<class 'lightgbm.sklearn.LGBMClassifier'>\n",
      "[LightGBM] [Warning] Found boosting=goss. For backwards compatibility reasons, LightGBM interprets this as boosting=gbdt, data_sample_strategy=goss.To suppress this warning, set data_sample_strategy=goss instead.\n",
      "              precision    recall  f1-score   support\n",
      "\n",
      "           0       0.77      0.86      0.81      1904\n",
      "           1       0.26      0.16      0.20       596\n",
      "\n",
      "    accuracy                           0.69      2500\n",
      "   macro avg       0.51      0.51      0.50      2500\n",
      "weighted avg       0.65      0.69      0.66      2500\n",
      "\n",
      "------------------------------------------------------\n"
     ]
    }
   ],
   "source": [
    "from sklearn.model_selection import RandomizedSearchCV\n",
    "final_mods = []\n",
    "for mod,params in zip([RFC(),LGBM()],[rf_params, lgbm_params]): # zip creates a list of tuples we can use to iterate\n",
    "    rand_search = RandomizedSearchCV(mod,params, # positional arguments, model and parameter grid\n",
    "                                     n_iter=25,\n",
    "                                     scoring='f1_macro', # see options here: https://scikit-learn.org/stable/modules/model_evaluation.html#scoring-parameter\n",
    "                                     cv=5,\n",
    "                                     random_state=123,\n",
    "                                     n_jobs=-1)\n",
    "    \n",
    "    rand_search.fit(train_Xtopic,train_YLR)\n",
    "    print(f\"Classification Report with hold-out sample for best fit of this model:...\\n\")\n",
    "    print(type(mod))\n",
    "    print(classification_report(test_YLR,rand_search.predict(test_Xtopic)))\n",
    "    print(\"------------------------------------------------------\")\n",
    "    final_mods.append(rand_search)"
   ]
  },
  {
   "cell_type": "markdown",
   "id": "fa07fad6-5d98-41c2-a304-e0f480d9bb50",
   "metadata": {},
   "source": [
    "**Final classification report**"
   ]
  },
  {
   "cell_type": "code",
   "execution_count": 31,
   "id": "ddb9078b",
   "metadata": {},
   "outputs": [
    {
     "name": "stdout",
     "output_type": "stream",
     "text": [
      "LGBMClassifier(boosting_type='goss',\n",
      "               class_weight={0: 0.6187260931072831, 1: 0.3812739068927169},\n",
      "               learning_rate=0.2, max_depth=20, num_leaves=50,\n",
      "               random_state=123)\n"
     ]
    }
   ],
   "source": [
    "print(final_mods[1].best_estimator_)"
   ]
  },
  {
   "cell_type": "code",
   "execution_count": 32,
   "id": "daa6940f-17fa-4953-9c7d-29bfbac5be31",
   "metadata": {},
   "outputs": [
    {
     "name": "stdout",
     "output_type": "stream",
     "text": [
      "[LightGBM] [Warning] Found boosting=goss. For backwards compatibility reasons, LightGBM interprets this as boosting=gbdt, data_sample_strategy=goss.To suppress this warning, set data_sample_strategy=goss instead.\n",
      "[LightGBM] [Warning] Found boosting=goss. For backwards compatibility reasons, LightGBM interprets this as boosting=gbdt, data_sample_strategy=goss.To suppress this warning, set data_sample_strategy=goss instead.\n",
      "[LightGBM] [Info] Number of positive: 2416, number of negative: 7584\n",
      "[LightGBM] [Info] Auto-choosing col-wise multi-threading, the overhead of testing was 0.002330 seconds.\n",
      "You can set `force_col_wise=true` to remove the overhead.\n",
      "[LightGBM] [Info] Total Bins 12750\n",
      "[LightGBM] [Info] Number of data points in the train set: 10000, number of used features: 50\n",
      "[LightGBM] [Info] Using GOSS\n",
      "[LightGBM] [Info] [binary:BoostFromScore]: pavg=0.164095 -> initscore=-1.628072\n",
      "[LightGBM] [Info] Start training from score -1.628072\n",
      "[LightGBM] [Warning] Found boosting=goss. For backwards compatibility reasons, LightGBM interprets this as boosting=gbdt, data_sample_strategy=goss.To suppress this warning, set data_sample_strategy=goss instead.\n",
      "              precision    recall  f1-score   support\n",
      "\n",
      "           0       0.77      0.86      0.81      1904\n",
      "           1       0.28      0.17      0.21       596\n",
      "\n",
      "    accuracy                           0.70      2500\n",
      "   macro avg       0.52      0.51      0.51      2500\n",
      "weighted avg       0.65      0.70      0.67      2500\n",
      "\n"
     ]
    }
   ],
   "source": [
    "from sklearn.metrics import classification_report\n",
    "# Update \"mod\" to be your final model and \"test_Xdtm\" to be whatever X you used)\n",
    "\n",
    "lgbm_best = LGBM(boosting_type='goss',\n",
    "               class_weight={0: 0.6187260931072831, 1: 0.3812739068927169},\n",
    "               learning_rate=0.2, max_depth=20, n_estimators=200, num_leaves=50,\n",
    "               random_state=123)\n",
    "lgbm_best.fit(train_Xtopic,train_YLR)\n",
    "\n",
    "print(classification_report(test_YLR,lgbm_best.predict(test_Xtopic)))"
   ]
  },
  {
   "cell_type": "markdown",
   "id": "2727ad16",
   "metadata": {},
   "source": [
    "**Both models after tuning the hyper parameters including adjusting class_weights decreased their overall accuracy but the recall values improved. The improvement was more significant for Light GBM for class 1. This model can still be improved more by applying other methods such as dimension reduction or resampling.**"
   ]
  }
 ],
 "metadata": {
  "kernelspec": {
   "display_name": "Python 3 (ipykernel)",
   "language": "python",
   "name": "python3"
  },
  "language_info": {
   "codemirror_mode": {
    "name": "ipython",
    "version": 3
   },
   "file_extension": ".py",
   "mimetype": "text/x-python",
   "name": "python",
   "nbconvert_exporter": "python",
   "pygments_lexer": "ipython3",
   "version": "3.11.5"
  }
 },
 "nbformat": 4,
 "nbformat_minor": 5
}
